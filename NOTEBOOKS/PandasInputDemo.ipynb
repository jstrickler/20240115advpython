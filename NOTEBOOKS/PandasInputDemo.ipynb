{
 "cells": [
  {
   "cell_type": "markdown",
   "metadata": {},
   "source": [
    "# pandas Input Demo\n",
    "\n",
    "This notebook describes how to read data into pandas from various sources"
   ]
  },
  {
   "cell_type": "markdown",
   "metadata": {},
   "source": [
    "## standard imports"
   ]
  },
  {
   "cell_type": "code",
   "execution_count": 6,
   "metadata": {},
   "outputs": [],
   "source": [
    "import pandas as pd\n",
    "%matplotlib inline\n",
    "# pd.options.display.max_rows = 10"
   ]
  },
  {
   "cell_type": "markdown",
   "metadata": {},
   "source": [
    "## read_csv()\n",
    "Read CSV files. The delimiters and escaped characters can be tweaked as needed. There is a huge number of options for this function."
   ]
  },
  {
   "cell_type": "code",
   "execution_count": 7,
   "metadata": {},
   "outputs": [
    {
     "data": {
      "text/html": [
       "<div>\n",
       "<style scoped>\n",
       "    .dataframe tbody tr th:only-of-type {\n",
       "        vertical-align: middle;\n",
       "    }\n",
       "\n",
       "    .dataframe tbody tr th {\n",
       "        vertical-align: top;\n",
       "    }\n",
       "\n",
       "    .dataframe thead th {\n",
       "        text-align: right;\n",
       "    }\n",
       "</style>\n",
       "<table border=\"1\" class=\"dataframe\">\n",
       "  <thead>\n",
       "    <tr style=\"text-align: right;\">\n",
       "      <th></th>\n",
       "      <th>Airport</th>\n",
       "      <th>2001 Rank</th>\n",
       "      <th>2001 Total</th>\n",
       "      <th>2010 Rank</th>\n",
       "      <th>2010 Total</th>\n",
       "      <th>2011 Rank</th>\n",
       "      <th>Total</th>\n",
       "      <th>Percent change 2001-2011</th>\n",
       "      <th>Percent change 2010-2011</th>\n",
       "    </tr>\n",
       "    <tr>\n",
       "      <th>Code</th>\n",
       "      <th></th>\n",
       "      <th></th>\n",
       "      <th></th>\n",
       "      <th></th>\n",
       "      <th></th>\n",
       "      <th></th>\n",
       "      <th></th>\n",
       "      <th></th>\n",
       "      <th></th>\n",
       "    </tr>\n",
       "  </thead>\n",
       "  <tbody>\n",
       "    <tr>\n",
       "      <th>ATL</th>\n",
       "      <td>Atlanta, GA (Hartsfield-Jackson Atlanta Intern...</td>\n",
       "      <td>1</td>\n",
       "      <td>36384264</td>\n",
       "      <td>1</td>\n",
       "      <td>42655392</td>\n",
       "      <td>1</td>\n",
       "      <td>33034788</td>\n",
       "      <td>-9.2</td>\n",
       "      <td>-22.6</td>\n",
       "    </tr>\n",
       "    <tr>\n",
       "      <th>ORD</th>\n",
       "      <td>Chicago, IL (Chicago O'Hare International)</td>\n",
       "      <td>2</td>\n",
       "      <td>28626694</td>\n",
       "      <td>2</td>\n",
       "      <td>30033313</td>\n",
       "      <td>2</td>\n",
       "      <td>22367052</td>\n",
       "      <td>-21.9</td>\n",
       "      <td>-25.5</td>\n",
       "    </tr>\n",
       "    <tr>\n",
       "      <th>DFW</th>\n",
       "      <td>Dallas, TX (Dallas/Fort Worth International)</td>\n",
       "      <td>3</td>\n",
       "      <td>25198256</td>\n",
       "      <td>3</td>\n",
       "      <td>26785739</td>\n",
       "      <td>3</td>\n",
       "      <td>20430281</td>\n",
       "      <td>-18.9</td>\n",
       "      <td>-23.7</td>\n",
       "    </tr>\n",
       "    <tr>\n",
       "      <th>DEN</th>\n",
       "      <td>Denver, CO (Denver International)</td>\n",
       "      <td>6</td>\n",
       "      <td>16397390</td>\n",
       "      <td>4</td>\n",
       "      <td>24965553</td>\n",
       "      <td>4</td>\n",
       "      <td>19190341</td>\n",
       "      <td>17.0</td>\n",
       "      <td>-23.1</td>\n",
       "    </tr>\n",
       "    <tr>\n",
       "      <th>LAX</th>\n",
       "      <td>Los Angeles, CA (Los Angeles International)</td>\n",
       "      <td>4</td>\n",
       "      <td>22873307</td>\n",
       "      <td>5</td>\n",
       "      <td>22860849</td>\n",
       "      <td>5</td>\n",
       "      <td>18379418</td>\n",
       "      <td>-19.6</td>\n",
       "      <td>-19.6</td>\n",
       "    </tr>\n",
       "    <tr>\n",
       "      <th>...</th>\n",
       "      <td>...</td>\n",
       "      <td>...</td>\n",
       "      <td>...</td>\n",
       "      <td>...</td>\n",
       "      <td>...</td>\n",
       "      <td>...</td>\n",
       "      <td>...</td>\n",
       "      <td>...</td>\n",
       "      <td>...</td>\n",
       "    </tr>\n",
       "    <tr>\n",
       "      <th>SJU</th>\n",
       "      <td>San Juan, PR (Luis Munoz Marin International)</td>\n",
       "      <td>40</td>\n",
       "      <td>4537774</td>\n",
       "      <td>43</td>\n",
       "      <td>4151370</td>\n",
       "      <td>46</td>\n",
       "      <td>2991599</td>\n",
       "      <td>-34.1</td>\n",
       "      <td>-27.9</td>\n",
       "    </tr>\n",
       "    <tr>\n",
       "      <th>SAT</th>\n",
       "      <td>San Antonio, TX (San Antonio International)</td>\n",
       "      <td>51</td>\n",
       "      <td>3254348</td>\n",
       "      <td>48</td>\n",
       "      <td>3861772</td>\n",
       "      <td>47</td>\n",
       "      <td>2916935</td>\n",
       "      <td>-10.4</td>\n",
       "      <td>-24.5</td>\n",
       "    </tr>\n",
       "    <tr>\n",
       "      <th>DAL</th>\n",
       "      <td>Dallas, TX (Dallas Love Field)</td>\n",
       "      <td>49</td>\n",
       "      <td>3350775</td>\n",
       "      <td>49</td>\n",
       "      <td>3782407</td>\n",
       "      <td>48</td>\n",
       "      <td>2866109</td>\n",
       "      <td>-14.5</td>\n",
       "      <td>-24.2</td>\n",
       "    </tr>\n",
       "    <tr>\n",
       "      <th>RSW</th>\n",
       "      <td>Fort Myers, FL (Southwest Florida International)</td>\n",
       "      <td>59</td>\n",
       "      <td>2503843</td>\n",
       "      <td>51</td>\n",
       "      <td>3610618</td>\n",
       "      <td>49</td>\n",
       "      <td>2817684</td>\n",
       "      <td>12.5</td>\n",
       "      <td>-22.0</td>\n",
       "    </tr>\n",
       "    <tr>\n",
       "      <th>IND</th>\n",
       "      <td>Indianapolis, IN (Indianapolis International)</td>\n",
       "      <td>48</td>\n",
       "      <td>3410636</td>\n",
       "      <td>50</td>\n",
       "      <td>3716884</td>\n",
       "      <td>50</td>\n",
       "      <td>2750105</td>\n",
       "      <td>-19.4</td>\n",
       "      <td>-26.0</td>\n",
       "    </tr>\n",
       "  </tbody>\n",
       "</table>\n",
       "<p>50 rows × 9 columns</p>\n",
       "</div>"
      ],
      "text/plain": [
       "                                                Airport  2001 Rank  \\\n",
       "Code                                                                 \n",
       "ATL   Atlanta, GA (Hartsfield-Jackson Atlanta Intern...          1   \n",
       "ORD          Chicago, IL (Chicago O'Hare International)          2   \n",
       "DFW        Dallas, TX (Dallas/Fort Worth International)          3   \n",
       "DEN                   Denver, CO (Denver International)          6   \n",
       "LAX         Los Angeles, CA (Los Angeles International)          4   \n",
       "...                                                 ...        ...   \n",
       "SJU       San Juan, PR (Luis Munoz Marin International)         40   \n",
       "SAT         San Antonio, TX (San Antonio International)         51   \n",
       "DAL                      Dallas, TX (Dallas Love Field)         49   \n",
       "RSW    Fort Myers, FL (Southwest Florida International)         59   \n",
       "IND       Indianapolis, IN (Indianapolis International)         48   \n",
       "\n",
       "      2001 Total  2010 Rank  2010 Total  2011 Rank     Total  \\\n",
       "Code                                                           \n",
       "ATL     36384264          1    42655392          1  33034788   \n",
       "ORD     28626694          2    30033313          2  22367052   \n",
       "DFW     25198256          3    26785739          3  20430281   \n",
       "DEN     16397390          4    24965553          4  19190341   \n",
       "LAX     22873307          5    22860849          5  18379418   \n",
       "...          ...        ...         ...        ...       ...   \n",
       "SJU      4537774         43     4151370         46   2991599   \n",
       "SAT      3254348         48     3861772         47   2916935   \n",
       "DAL      3350775         49     3782407         48   2866109   \n",
       "RSW      2503843         51     3610618         49   2817684   \n",
       "IND      3410636         50     3716884         50   2750105   \n",
       "\n",
       "      Percent change 2001-2011  Percent change 2010-2011  \n",
       "Code                                                      \n",
       "ATL                       -9.2                     -22.6  \n",
       "ORD                      -21.9                     -25.5  \n",
       "DFW                      -18.9                     -23.7  \n",
       "DEN                       17.0                     -23.1  \n",
       "LAX                      -19.6                     -19.6  \n",
       "...                        ...                       ...  \n",
       "SJU                      -34.1                     -27.9  \n",
       "SAT                      -10.4                     -24.5  \n",
       "DAL                      -14.5                     -24.2  \n",
       "RSW                       12.5                     -22.0  \n",
       "IND                      -19.4                     -26.0  \n",
       "\n",
       "[50 rows x 9 columns]"
      ]
     },
     "execution_count": 7,
     "metadata": {},
     "output_type": "execute_result"
    }
   ],
   "source": [
    "df_csv = pd.read_csv('../DATA/airport_boardings.csv', thousands=',', index_col=1)\n",
    "df_csv"
   ]
  },
  {
   "cell_type": "markdown",
   "metadata": {},
   "source": [
    "## read_table()\n",
    "Read text files (other than CSV). This function is very similar to *read_csv()* and shares most of its options. This is the best choice for tab-delimited, space-delimited, and other delimited flat file formats. "
   ]
  },
  {
   "cell_type": "code",
   "execution_count": null,
   "metadata": {},
   "outputs": [],
   "source": [
    "df_table = pd.read_table('../DATA/columns_of_numbers.txt', delim_whitespace=True)\n",
    "# df_table.set_index = pd.date_range('1/1/2017', periods=len(df_table), freq='D')\n",
    "df_table.head()"
   ]
  },
  {
   "cell_type": "code",
   "execution_count": null,
   "metadata": {},
   "outputs": [],
   "source": [
    "df_table['Delta'].plot(kind='barh')"
   ]
  },
  {
   "cell_type": "code",
   "execution_count": null,
   "metadata": {},
   "outputs": [],
   "source": [
    "df_table.plot(kind='scatter', x='Alpha', y='Zeta')"
   ]
  },
  {
   "cell_type": "markdown",
   "metadata": {},
   "source": [
    "## read_sql(), read_sql_query(), read_sql_table()\n",
    "Read data from a SQL database. It requires a connection object from one of the Python modules that follows the DB API, or it can use a SQLAlchemy DB engine object. A dataframe is created from the rows in the result set. \n",
    "\n",
    "TODO: describe read_sql_table  read_sql_query"
   ]
  },
  {
   "cell_type": "markdown",
   "metadata": {},
   "source": [
    "### read_sql()\n",
    "read_sql() is a convenience function that delegates to either *read_sql_query()* or *read_sql_table()*, as appropriate. \n",
    "It takes a query (or a table name) and the database connection. If a table is specified, the connection must be a SQLAlchemy engine. If a query is specified, it can be either a SQLAlchemy engine or a DB API connection object, as from pymssql, pyodbc, pymysql, cx_oracle, psycopg, etc. "
   ]
  },
  {
   "cell_type": "code",
   "execution_count": null,
   "metadata": {},
   "outputs": [],
   "source": [
    "# import sqlite3\n",
    "# import pyodbc\n",
    "# conn = pyodbc.connect('DSN...')\n",
    "# conn = sqlite3.connect('../DATA/presidents.db')\n",
    "import psycopg2\n",
    "conn = psycopg2.connect(host='localhost', user='postgres', password='scripts')  \n",
    "df_sql = pd.read_sql('select * from presidents', conn)\n",
    "df_sql.head()"
   ]
  },
  {
   "cell_type": "markdown",
   "metadata": {},
   "source": [
    "### read_sql_query()\n",
    "read_sql_query() populates a dataframe from a SQL query. Either a DB API connection or a SQLAlchemy engine may be specified. "
   ]
  },
  {
   "cell_type": "code",
   "execution_count": null,
   "metadata": {},
   "outputs": [],
   "source": [
    "df_sql = pd.read_sql_query('select * from presidents', conn)\n",
    "df_sql.head()"
   ]
  },
  {
   "cell_type": "markdown",
   "metadata": {},
   "source": [
    "### read_sql_table()\n",
    "read_sql_table() populates a dataframe with an entire SQL table. The connection must be a SQLAlchemy engine. "
   ]
  },
  {
   "cell_type": "code",
   "execution_count": null,
   "metadata": {},
   "outputs": [],
   "source": [
    "from sqlalchemy import create_engine\n",
    "engine = create_engine('sqlite:///../DATA/presidents.db')\n",
    "df_sql = pd.read_sql_table('presidents', engine)\n",
    "df_sql.head()"
   ]
  },
  {
   "cell_type": "markdown",
   "metadata": {},
   "source": [
    "## read_excel()\n",
    "Read data from an Excel spreadsheet. The spreadsheet may be on the local computer, or specified via a URL. \n",
    "\n",
    "<!-- TODO: use different spreadsheet for local -->"
   ]
  },
  {
   "cell_type": "markdown",
   "metadata": {},
   "source": [
    "### Local file"
   ]
  },
  {
   "cell_type": "code",
   "execution_count": null,
   "metadata": {},
   "outputs": [],
   "source": [
    "df_excel_local = pd.read_excel('../DATA/presidents.xlsx')\n",
    "df_excel_local.head()"
   ]
  },
  {
   "cell_type": "markdown",
   "metadata": {},
   "source": [
    "### URL"
   ]
  },
  {
   "cell_type": "code",
   "execution_count": null,
   "metadata": {
    "scrolled": true
   },
   "outputs": [],
   "source": [
    "df_excel_url = pd.read_excel('http://qrc.depaul.edu/Excel_Files/Presidents.xlsx',\n",
    "        na_values=\"NA()\")\n",
    "df_excel_url.head()"
   ]
  },
  {
   "cell_type": "markdown",
   "metadata": {},
   "source": [
    "## read_html()\n",
    "Read data from one or more tables in a Web page. It returns a list of DataFrames, even if there is only one table in the page. "
   ]
  },
  {
   "cell_type": "code",
   "execution_count": null,
   "metadata": {},
   "outputs": [],
   "source": [
    "df_list = pd.read_html('http://money.cnn.com/data/us_markets/', header=0)\n",
    "print(len(df_list))\n",
    "for df in df_list:\n",
    "    print(df.head())\n",
    "    print('*' * 60)\n",
    "    \n",
    "gain_lose = df_list[0]\n",
    "print(gain_lose.loc[:,['Gainers & Losers', 'Price']])\n",
    "gain_lose['Price'].plot()"
   ]
  },
  {
   "cell_type": "markdown",
   "metadata": {},
   "source": [
    "## read_fwf()\n",
    "This function reads files with fixed-width fields. If the fields you want are contiguous, specify the widths of all columns with the *widths* parameter. If they are non-contiguous (you just want to pull out certain columns), specify the columns with the *colspecs* parameter, which takes a list of tuples describing the beginning and end end of each desired column. If neither *widths* or *colspecs* is given, *read_fwf()* tries to infer the columns. "
   ]
  },
  {
   "cell_type": "code",
   "execution_count": null,
   "metadata": {},
   "outputs": [],
   "source": [
    "df_fwf = pd.read_fwf('../DATA/world_median_ages.txt', \n",
    "    names=['country', 'median_age'], widths=[7,50,4], index_col=0)\n",
    "print(df_fwf.head())\n",
    "print(df_fwf.iloc[1])"
   ]
  },
  {
   "cell_type": "code",
   "execution_count": null,
   "metadata": {},
   "outputs": [],
   "source": [
    "ax = df_fwf.iloc[:20].plot(kind='barh', x='country', y='median_age')\n",
    "print(type(ax))\n",
    "ax.set_ylabel('Median Age')\n"
   ]
  },
  {
   "cell_type": "code",
   "execution_count": null,
   "metadata": {},
   "outputs": [],
   "source": []
  }
 ],
 "metadata": {
  "kernelspec": {
   "display_name": "Python 3 (ipykernel)",
   "language": "python",
   "name": "python3"
  },
  "language_info": {
   "codemirror_mode": {
    "name": "ipython",
    "version": 3
   },
   "file_extension": ".py",
   "mimetype": "text/x-python",
   "name": "python",
   "nbconvert_exporter": "python",
   "pygments_lexer": "ipython3",
   "version": "3.11.6"
  }
 },
 "nbformat": 4,
 "nbformat_minor": 4
}
